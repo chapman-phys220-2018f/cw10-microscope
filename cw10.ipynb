{
 "cells": [
  {
   "cell_type": "markdown",
   "metadata": {
    "collapsed": false
   },
   "source": [
    "## CW10\n",
    "##### By Jack Savage and Enea Dodi"
   ]
  },
  {
   "cell_type": "markdown",
   "metadata": {
    "collapsed": false
   },
   "source": [
    "#### Euler's Method: $u_{k+1} = u_k + \\Delta t\\, f[t_k, u_k]$"
   ]
  },
  {
   "cell_type": "markdown",
   "metadata": {
    "collapsed": false
   },
   "source": [
    "Euler's Method is a linear approximation using a first-order ordinary differential equation. Given a point $u_{k}$, we calculate the rate of change at that point using a first-order ordinary differential equation **(eq 1)**:\n",
    "\n",
    "$$u'(t) = f[t, u(t)]$$\n",
    "\n",
    "One then multiplies the rate of change with the change in $t$ to predict the change between $u_{k}$ and $u_{k+1}$. This product represents the next point in the sequence if the function were linear with constant slope between $u_{k}$ and $u_{k+1}$. As we can calculate $f[t, u(t)]$ independently for each point, we can update the slope for each point $k$ rather than approximating the entire function with a single line."
   ]
  },
  {
   "cell_type": "markdown",
   "metadata": {
    "collapsed": false
   },
   "source": [
    "#### Leapfrog Method: $u_{k+1} = u_{k-1} + 2\\Delta t\\, f[t_k, u_k]$"
   ]
  },
  {
   "cell_type": "markdown",
   "metadata": {
    "collapsed": false
   },
   "source": [
    "The leapfrog method is similar to Euler's method as we are once again using *eq 1* to estimate change between points. This method differs from the first as one is applying the gradient for an $u_{k}$ twice to the point $u_{k-1}$ rather than $u_{k}$ directly. The problem this method presents is that one cannot predict $u_{1}$ without knowing $u_{-1}$ (which doesn't exist). A workaround to this problem would be using Euler's Method to approximate $u_{1}$ and then generate $u_{1+k}$ using the leapfrog method."
   ]
  },
  {
   "cell_type": "markdown",
   "metadata": {
    "collapsed": false
   },
   "source": [
    "#### Heun's (Trapezoid) Method: \n",
    "##### $$\\tilde{u}_{k+1} = u_k + \\Delta t\\, f[t_k, u_k]$$\n",
    "\n",
    "##### $$u_{k+1} = u_k + (\\Delta t/2)(f[t_k, u_k] + f[t_{k+1}, \\tilde{u}_{k+1}])$$"
   ]
  },
  {
   "cell_type": "markdown",
   "metadata": {
    "collapsed": false
   },
   "source": [
    "Heun's Method is a two step process. In the first equation, we see our old friend Euler's method return. This means we can view $\\tilde{u}_{k+1}$ as a linear approximation of $u_{k+1}$. In the second equation, we're averaging the derivatives (using the ODE as always) of $u_{k}$ and $\\tilde{u}_{k+1}$ (linear approximation of $u_{k+1}$) and adding them to $u_{k}$. In averaging both starting and (approximate) ending behavior of the function between between $t$ and $t+\\Delta t$ we can account for gradient behavior at both places.\n",
    "\n",
    "This equation somewhat resembles the equation for the area of a trapezoid where we multiply the average of base lengths by a given height. In our case we're multiplying the average of two derivatives by a given $u_{k}$ value."
   ]
  },
  {
   "cell_type": "markdown",
   "metadata": {
    "collapsed": false
   },
   "source": [
    "#### 2nd-order Runge-Kutta Method:\n",
    "   \n",
    "#####   $K_1 = \\Delta t\\, f[t_k, u_k]$, \n",
    "   \n",
    "#####   $K_2 = \\Delta t\\, f[t_k + \\Delta t/2, u_k + K_1/2]$,\n",
    "\n",
    "#####   $u_{k+1} = u_k + K_2$"
   ]
  },
  {
   "cell_type": "markdown",
   "metadata": {
    "collapsed": false
   },
   "source": [
    "The Runge-Kutta method is a 3 step process. First, one uses *eq 1* to evaluate the linear approximation of $u_{k+1}$. This is represented by $K_{1}$ above. Generating our $K_{2}$ value is a bit more tricky. We use the same function $f$ as previously but operate on the $t$ value and approximate $u$ value in the middle of $u_{k}$ and $u_{k+1}$. This operation gives us an approximation of the gradient of the midpoint. This gradient is then multiplied by $\\Delta t$ similar to Euler's Method to approximate $u_{k+1}$."
   ]
  },
  {
   "cell_type": "markdown",
   "metadata": {
    "collapsed": false
   },
   "source": [
    "#### 4th-order Runge-Kutta Method (accurate to 4th-order):\n",
    "   \n",
    "#####   $u_{k+1} = u_k + (K_1 + 2K_2 + 2K_3 + K_4)/6$, \n",
    "   \n",
    "#####   $K_1 = \\Delta t\\,f[t_k,u_k]$, \n",
    "   \n",
    "#####   $K_2 = \\Delta t\\, f[t_k + \\Delta t/2, u_k + K_1/2]$, \n",
    "   \n",
    "#####   $K_3 = \\Delta t\\, f[t_k + \\Delta t/2, u_k + K_2/2]$, \n",
    "   \n",
    "#####   $K_4 = \\Delta t\\,f[t_k + \\Delta t, u_k + K_3]$  "
   ]
  },
  {
   "cell_type": "markdown",
   "metadata": {
    "collapsed": false
   },
   "source": [
    "The 4th-order range uses the average of 4 points to determine the location of $u_{k+1}$. \n",
    "\n",
    "The first point, ($K_{1}$), is the the linear approximation of the difference between $u_{k+1}$ and $u_{k}$. The second point, ($K_{2}$), is a linear approximation generated using the middle $t$ value (between $u_{k+1}$ and $u_{k}$). The third point is the point generated at the same $t$ value as $K_{2}$ but using the gradient of the point at $K_{2}$. More simply put, we generate a line at {t} following the gradient of $K_{2}$ and follow this line until we reach $t_{k} + \\Delta t/2$. $K_{3}$ is the $u$ value at this new point. The final point is generated using the same principal as the last. We generate the slope of the point from $K_{3}$ and follow along this line from $t$ to $t+\\Delta t$. $K_{4}$ is the $u$ value of the resulting point.\n",
    "\n",
    "To finally generate our approximation of $u_{k+1}$, we average all of our $K$-values with the middle two values being weighted. One reason these middle points could be weighted is because they provide insight in to the functions behavior between the two $t$ values rather than at the beginning or end. Any nonlinearity in the function would be better captured by these two estimates."
   ]
  }
 ],
 "metadata": {
  "kernelspec": {
   "display_name": "Python 3 (Anaconda 5)",
   "language": "python",
   "name": "anaconda5"
  },
  "language_info": {
   "codemirror_mode": {
    "name": "ipython",
    "version": 3
   },
   "file_extension": ".py",
   "mimetype": "text/x-python",
   "name": "python",
   "nbconvert_exporter": "python",
   "pygments_lexer": "ipython3",
   "version": "3.6.5"
  }
 },
 "nbformat": 4,
 "nbformat_minor": 0
}